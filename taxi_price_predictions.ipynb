{
  "nbformat": 4,
  "nbformat_minor": 0,
  "metadata": {
    "colab": {
      "provenance": [],
      "authorship_tag": "ABX9TyOkMwCYXHjPWiqKeDsQPWep",
      "include_colab_link": true
    },
    "kernelspec": {
      "name": "python3",
      "display_name": "Python 3"
    },
    "language_info": {
      "name": "python"
    }
  },
  "cells": [
    {
      "cell_type": "markdown",
      "metadata": {
        "id": "view-in-github",
        "colab_type": "text"
      },
      "source": [
        "<a href=\"https://colab.research.google.com/github/chetan0321/ML_FLASK090/blob/main/taxi_price_predictions.ipynb\" target=\"_parent\"><img src=\"https://colab.research.google.com/assets/colab-badge.svg\" alt=\"Open In Colab\"/></a>"
      ]
    },
    {
      "cell_type": "code",
      "execution_count": null,
      "metadata": {
        "id": "d_t9et-_Y5CG",
        "colab": {
          "base_uri": "https://localhost:8080/"
        },
        "outputId": "8d9da54a-26ba-4132-a004-52ede05bde26"
      },
      "outputs": [
        {
          "output_type": "stream",
          "name": "stdout",
          "text": [
            "Enter the number of kilometers traveled: 9\n",
            "Enter the rate per kilometer: 8\n",
            "Enter the fixed taxi fare: 4\n",
            "The predicted taxi price is: 76.0\n"
          ]
        }
      ],
      "source": [
        "import numpy as np\n",
        "def predict_taxi_price(x, m, c):\n",
        "\n",
        "  y = m * x + c\n",
        "  return y\n",
        "\n",
        "\n",
        "if __name__ == \"__main__\":\n",
        "  # Get input values from the user\n",
        "  try:\n",
        "    km_traveled = float(input(\"Enter the number of kilometers traveled: \"))\n",
        "    rate_per_km = float(input(\"Enter the rate per kilometer: \"))\n",
        "    fixed_fare = float(input(\"Enter the fixed taxi fare: \"))\n",
        "\n",
        "\n",
        "    # Predict the taxi price\n",
        "    predicted_price = predict_taxi_price(km_traveled, rate_per_km, fixed_fare)\n",
        "    print(f\"The predicted taxi price is: {predicted_price}\")\n",
        "  except ValueError:\n",
        "    print(\"Invalid input. Please enter numeric values.\")\n"
      ]
    }
  ]
}